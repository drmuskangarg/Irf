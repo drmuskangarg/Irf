{
 "cells": [
  {
   "cell_type": "code",
   "execution_count": 1,
   "id": "09a71af2-7cc4-49cd-92c4-d214ca0d386b",
   "metadata": {},
   "outputs": [
    {
     "name": "stderr",
     "output_type": "stream",
     "text": [
      "[rank: 0] Global seed set to 42\n"
     ]
    }
   ],
   "source": [
    "import torch\n",
    "import pytorch_lightning as pl\n",
    "import pandas as pd\n",
    "import numpy as np\n",
    "import pickle\n",
    "from transformers import AutoTokenizer\n",
    "from lime import lime_text\n",
    "from lime.lime_text import LimeTextExplainer\n",
    "from tqdm import tqdm\n",
    "from rouge import Rouge\n",
    "\n",
    "from transformers_trainer import TransformersTrainer\n",
    "\n",
    "pl.seed_everything(42)\n",
    "rouge = Rouge()"
   ]
  },
  {
   "cell_type": "code",
   "execution_count": 2,
   "id": "87af83ad-8ebb-494c-872b-5cfa896df80b",
   "metadata": {},
   "outputs": [
    {
     "name": "stderr",
     "output_type": "stream",
     "text": [
      "Some weights of the model checkpoint at mental/mental-bert-base-uncased were not used when initializing BertModel: ['cls.predictions.bias', 'cls.predictions.transform.LayerNorm.bias', 'cls.predictions.decoder.weight', 'cls.predictions.decoder.bias', 'cls.predictions.transform.dense.weight', 'cls.predictions.transform.dense.bias', 'cls.predictions.transform.LayerNorm.weight']\n",
      "- This IS expected if you are initializing BertModel from the checkpoint of a model trained on another task or with another architecture (e.g. initializing a BertForSequenceClassification model from a BertForPreTraining model).\n",
      "- This IS NOT expected if you are initializing BertModel from the checkpoint of a model that you expect to be exactly identical (initializing a BertForSequenceClassification model from a BertForSequenceClassification model).\n",
      "Some weights of BertModel were not initialized from the model checkpoint at mental/mental-bert-base-uncased and are newly initialized: ['bert.pooler.dense.bias', 'bert.pooler.dense.weight']\n",
      "You should probably TRAIN this model on a down-stream task to be able to use it for predictions and inference.\n"
     ]
    },
    {
     "name": "stdout",
     "output_type": "stream",
     "text": [
      "Loaded Model\n"
     ]
    }
   ],
   "source": [
    "model_name = 'mental/mental-bert-base-uncased'\n",
    "model = TransformersTrainer.load_from_checkpoint(\n",
    "    f'../classification_models/{model_name}.ckpt',\n",
    "    model_name=model_name\n",
    ")\n",
    "tokenizer = AutoTokenizer.from_pretrained(model_name)\n",
    "model.to('cuda:0')\n",
    "model.eval()\n",
    "print('Loaded Model')"
   ]
  },
  {
   "cell_type": "code",
   "execution_count": 3,
   "id": "0259d03f-eed9-4ab1-b92d-c7f259d5f2ec",
   "metadata": {},
   "outputs": [],
   "source": [
    "def lime_pred(text_arr, output_logit):\n",
    "    inp = tokenizer(\n",
    "        list(text_arr),\n",
    "        max_length=256,\n",
    "        padding=\"max_length\",\n",
    "        return_tensors=\"pt\",\n",
    "        truncation=True,\n",
    "    )\n",
    "    \n",
    "    inp = {k: v.to('cuda:0') for k,v in inp.items()}\n",
    "\n",
    "    with torch.no_grad():\n",
    "        y_hat = model(inp)\n",
    "\n",
    "    probs = y_hat[output_logit].detach().cpu().numpy().reshape(-1, 1)\n",
    "    return np.hstack((probs, (1-probs)))"
   ]
  },
  {
   "cell_type": "code",
   "execution_count": 6,
   "id": "06596bd1-7132-4440-bf11-20257fb09270",
   "metadata": {},
   "outputs": [],
   "source": [
    "test_df = pd.read_csv('../data/test_data_pre.csv')\n",
    "belong_df = test_df[test_df['belong'] == 1].dropna(subset=['belong_exp']).reset_index().drop(columns=['index'])\n",
    "burden_df = test_df[test_df['burden'] == 1].dropna(subset=['burden_exp']).reset_index().drop(columns=['index'])"
   ]
  },
  {
   "cell_type": "code",
   "execution_count": null,
   "id": "4ea3dd0d-b440-4a36-b8d2-fb7588765e93",
   "metadata": {},
   "outputs": [],
   "source": [
    "belong_explainer = LimeTextExplainer(verbose=False)\n",
    "\n",
    "for i in tqdm(range(len(belong_df))):\n",
    "    torch.cuda.empty_cache()\n",
    "    exp = belong_explainer.explain_instance(belong_df['text'][i], lambda x: lime_pred(x, 0), num_features=10, num_samples=2000)\n",
    "    belong_df.loc[i, 'top_keywords'] = ' '.join([w for (w, p) in exp.as_list()])\n",
    "    \n",
    "    r = rouge.get_scores(belong_df['top_keywords'][i], belong_df['belong_exp'][i])[0]\n",
    "    d = {f'{k}_{kk}': vv for k, v in r.items() for kk, vv in v.items()}\n",
    "    for k, v in d.items():\n",
    "        belong_df.loc[i, k] = v\n",
    "\n",
    "belong_df.to_csv('../results/belong_lime.csv', index=False)"
   ]
  },
  {
   "cell_type": "code",
   "execution_count": 7,
   "id": "b6b0a854-3405-4e70-9f63-f09c42c9e3d9",
   "metadata": {},
   "outputs": [
    {
     "name": "stderr",
     "output_type": "stream",
     "text": [
      "100%|██████████| 324/324 [52:58<00:00,  9.81s/it]\n"
     ]
    }
   ],
   "source": [
    "burden_explainer = LimeTextExplainer(verbose=False)\n",
    "\n",
    "for i in tqdm(range(len(burden_df))):\n",
    "    torch.cuda.empty_cache()\n",
    "    exp = burden_explainer.explain_instance(burden_df['text'][i], lambda x: lime_pred(x, 1), num_features=10, num_samples=2000)\n",
    "    burden_df.loc[i, 'top_keywords'] = ' '.join([w for (w, p) in exp.as_list()])\n",
    "    \n",
    "    r = rouge.get_scores(burden_df['top_keywords'][i], burden_df['burden_exp'][i])[0]\n",
    "    d = {f'{k}_{kk}': vv for k, v in r.items() for kk, vv in v.items()}\n",
    "    for k, v in d.items():\n",
    "        burden_df.loc[i, k] = v\n",
    "\n",
    "burden_df.to_csv('../results/burden_lime.csv', index=False)"
   ]
  },
  {
   "cell_type": "code",
   "execution_count": null,
   "id": "d4ab0cde-1ebf-484d-9648-b80c91bb673f",
   "metadata": {},
   "outputs": [],
   "source": []
  }
 ],
 "metadata": {
  "kernelspec": {
   "display_name": "Python 3 (ipykernel)",
   "language": "python",
   "name": "python3"
  },
  "language_info": {
   "codemirror_mode": {
    "name": "ipython",
    "version": 3
   },
   "file_extension": ".py",
   "mimetype": "text/x-python",
   "name": "python",
   "nbconvert_exporter": "python",
   "pygments_lexer": "ipython3",
   "version": "3.8.10"
  }
 },
 "nbformat": 4,
 "nbformat_minor": 5
}
