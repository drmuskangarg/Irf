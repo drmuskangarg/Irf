{
 "cells": [
  {
   "cell_type": "code",
   "execution_count": 17,
   "id": "c9032562-2a2a-4ce3-b53e-e18cec716993",
   "metadata": {},
   "outputs": [],
   "source": [
    "from TweetProcessor import TweetProcessor\n",
    "import pandas as pd"
   ]
  },
  {
   "cell_type": "code",
   "execution_count": 18,
   "id": "61b52edf-6f19-446f-960b-88b917bfb9a0",
   "metadata": {},
   "outputs": [],
   "source": [
    "tp = TweetProcessor(lowercase=True, remove_stopwords=False, lemmatize=False,\n",
    "                     replace_urls='', replace_mentions='', replace_hashtags=False,\n",
    "                     convert_to_ascii=True, remove_punctuation=True,\n",
    "                     remove_numbers=True, replace_emojis=True,\n",
    "                     expand_contractions=True)"
   ]
  },
  {
   "cell_type": "code",
   "execution_count": 40,
   "id": "34e41a72-956c-4fd0-b2ad-b3ad1216b63c",
   "metadata": {},
   "outputs": [],
   "source": [
    "train_df = pd.read_csv('data/train_data.csv', index_col=0)\n",
    "val_df = pd.read_csv('data/val_data.csv', index_col=0)\n",
    "test_df = pd.read_csv('data/test_data.csv', index_col=0)"
   ]
  },
  {
   "cell_type": "code",
   "execution_count": 41,
   "id": "b70bc498-a89a-4d6c-b6de-082177e555d8",
   "metadata": {},
   "outputs": [],
   "source": [
    "train_df['text'] = train_df['text'].apply(lambda text: text.replace(\"‚‚ÄÄô\", \"'\"))\n",
    "train_df['text'] = train_df['text'].apply(lambda text: text.replace(\"‚Äô\", \"'\"))\n",
    "train_df['text'] = train_df['text'].apply(tp.transform)\n",
    "train_df.to_csv('data/train_data_pre.csv')"
   ]
  },
  {
   "cell_type": "code",
   "execution_count": 42,
   "id": "8d16a8f8-d11a-40d7-939d-e2198f933506",
   "metadata": {},
   "outputs": [],
   "source": [
    "val_df['text'] = val_df['text'].apply(lambda text: text.replace(\"‚‚ÄÄô\", \"'\"))\n",
    "val_df['text'] = val_df['text'].apply(lambda text: text.replace(\"‚Äô\", \"'\"))\n",
    "val_df['text'] = val_df['text'].apply(tp.transform)\n",
    "val_df.to_csv('data/val_data_pre.csv')"
   ]
  },
  {
   "cell_type": "code",
   "execution_count": 43,
   "id": "8d6664d4-5b54-43f8-8789-498b69ca10d4",
   "metadata": {},
   "outputs": [],
   "source": [
    "test_df['text'] = test_df['text'].apply(lambda text: text.replace(\"‚‚ÄÄô\", \"'\"))\n",
    "test_df['text'] = test_df['text'].apply(lambda text: text.replace(\"‚Äô\", \"'\"))\n",
    "test_df['text'] = test_df['text'].apply(tp.transform)\n",
    "test_df.to_csv('data/test_data_pre.csv')"
   ]
  },
  {
   "cell_type": "code",
   "execution_count": null,
   "id": "0f8eb3d0-ca0e-40ce-8343-c06afce57ecd",
   "metadata": {},
   "outputs": [],
   "source": []
  }
 ],
 "metadata": {
  "kernelspec": {
   "display_name": "Python 3 (ipykernel)",
   "language": "python",
   "name": "python3"
  },
  "language_info": {
   "codemirror_mode": {
    "name": "ipython",
    "version": 3
   },
   "file_extension": ".py",
   "mimetype": "text/x-python",
   "name": "python",
   "nbconvert_exporter": "python",
   "pygments_lexer": "ipython3",
   "version": "3.8.10"
  }
 },
 "nbformat": 4,
 "nbformat_minor": 5
}
