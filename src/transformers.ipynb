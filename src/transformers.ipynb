{
 "cells": [
  {
   "cell_type": "code",
   "execution_count": 1,
   "id": "09a71af2-7cc4-49cd-92c4-d214ca0d386b",
   "metadata": {},
   "outputs": [
    {
     "name": "stderr",
     "output_type": "stream",
     "text": [
      "[rank: 0] Global seed set to 42\n"
     ]
    },
    {
     "data": {
      "text/plain": [
       "42"
      ]
     },
     "execution_count": 1,
     "metadata": {},
     "output_type": "execute_result"
    }
   ],
   "source": [
    "import pandas as pd\n",
    "import torch\n",
    "import torchtext\n",
    "from torchtext.vocab import GloVe\n",
    "from torchtext.data import get_tokenizer\n",
    "import pytorch_lightning as pl\n",
    "from torchmetrics import Accuracy, Precision, Recall, F1Score\n",
    "from pytorch_lightning.loggers import TensorBoardLogger\n",
    "from torch import nn\n",
    "\n",
    "from transformers_trainer import TransformersTrainer\n",
    "\n",
    "\n",
    "pl.seed_everything(42)"
   ]
  },
  {
   "cell_type": "code",
   "execution_count": 2,
   "id": "4968443f-c66d-43be-805f-e4fded5dbe10",
   "metadata": {},
   "outputs": [],
   "source": [
    "def run(model_name):\n",
    "    acc_ckpt = pl.callbacks.ModelCheckpoint(\n",
    "        monitor=\"avg_acc\",\n",
    "        mode=\"max\",\n",
    "        verbose=True,\n",
    "        dirpath=\"../checkpoints/\",\n",
    "        filename=f\"{model_name}\",\n",
    "    )\n",
    "\n",
    "    logger = TensorBoardLogger(\n",
    "        f\"../logs/{model_name}\", name=f\"{model_name}\"\n",
    "    )\n",
    "\n",
    "    model = TransformersTrainer(model_name, text_col=\"text\")\n",
    "\n",
    "    trainer = pl.Trainer(\n",
    "        accelerator='gpu',\n",
    "        precision=16,\n",
    "        max_epochs=20,\n",
    "        auto_select_gpus=True,\n",
    "        # strategy=plugin,\n",
    "        callbacks=[acc_ckpt],\n",
    "        fast_dev_run=False,\n",
    "        detect_anomaly=False,\n",
    "        logger=logger,\n",
    "    )\n",
    "\n",
    "    trainer.fit(model)\n",
    "    return trainer.test(model, ckpt_path=f'../checkpoints/{model_name}.ckpt', verbose=True)\n",
    "\n",
    "        \n"
   ]
  },
  {
   "cell_type": "code",
   "execution_count": null,
   "id": "87af83ad-8ebb-494c-872b-5cfa896df80b",
   "metadata": {},
   "outputs": [],
   "source": [
    "model_names = ['roberta-base', 'bert-base-uncased', 'distilbert-base-uncased', 'mental/mental-bert-base-uncased']\n",
    "for model_name in model_names:\n",
    "    torch.cuda.empty_cache()\n",
    "    res = run(model_name)\n",
    "    with open('res.txt', 'a') as f:\n",
    "        f.writelines(f'=== {model_name} ===\\n')\n",
    "        for k, v in res[0].items():\n",
    "            f.writelines(f'{k}: {v}\\n')\n",
    "        f.writelines('\\n\\n\\n')"
   ]
  },
  {
   "cell_type": "code",
   "execution_count": null,
   "id": "099190a1-400a-4fd8-8ae8-3ec72ea4e4c0",
   "metadata": {},
   "outputs": [],
   "source": []
  }
 ],
 "metadata": {
  "kernelspec": {
   "display_name": "Python 3 (ipykernel)",
   "language": "python",
   "name": "python3"
  },
  "language_info": {
   "codemirror_mode": {
    "name": "ipython",
    "version": 3
   },
   "file_extension": ".py",
   "mimetype": "text/x-python",
   "name": "python",
   "nbconvert_exporter": "python",
   "pygments_lexer": "ipython3",
   "version": "3.8.10"
  }
 },
 "nbformat": 4,
 "nbformat_minor": 5
}
