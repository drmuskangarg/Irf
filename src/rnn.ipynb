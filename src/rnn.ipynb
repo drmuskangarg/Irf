{
 "cells": [
  {
   "cell_type": "code",
   "execution_count": null,
   "id": "09a71af2-7cc4-49cd-92c4-d214ca0d386b",
   "metadata": {},
   "outputs": [],
   "source": [
    "import pandas as pd\n",
    "import torch\n",
    "import torchtext\n",
    "from torchtext.vocab import GloVe\n",
    "from torchtext.data import get_tokenizer\n",
    "import pytorch_lightning as pl\n",
    "from torchmetrics import Accuracy, Precision, Recall, F1Score\n",
    "from pytorch_lightning.loggers import TensorBoardLogger\n",
    "from torch import nn\n",
    "\n",
    "from rnn_dataset import RnnDataset\n",
    "from rnn_trainer import RnnTrainer\n",
    "\n",
    "pl.seed_everything(42)"
   ]
  },
  {
   "cell_type": "code",
   "execution_count": null,
   "id": "4968443f-c66d-43be-805f-e4fded5dbe10",
   "metadata": {},
   "outputs": [],
   "source": [
    "def run(model_name, GRU):\n",
    "    acc_ckpt = pl.callbacks.ModelCheckpoint(\n",
    "        monitor=\"avg_acc\",\n",
    "        mode=\"max\",\n",
    "        verbose=True,\n",
    "        dirpath=\"../checkpoints/\",\n",
    "        filename=f\"{model_name}\",\n",
    "    )\n",
    "\n",
    "    logger = TensorBoardLogger(\n",
    "        f\"../logs/{model_name}\", name=f\"{model_name}\"\n",
    "    )\n",
    "\n",
    "    model = RnnTrainer(text_col=\"text\", GRU=GRU)\n",
    "\n",
    "    trainer = pl.Trainer(\n",
    "        accelerator='gpu',\n",
    "        precision=16,\n",
    "        max_epochs=10,\n",
    "        auto_select_gpus=True,\n",
    "        # strategy=plugin,\n",
    "        callbacks=[acc_ckpt],\n",
    "        fast_dev_run=False,\n",
    "        detect_anomaly=False,\n",
    "        logger=logger,\n",
    "    )\n",
    "\n",
    "    trainer.fit(model)\n",
    "    return trainer.test(model, ckpt_path=f'../checkpoints/{model_name}.ckpt', verbose=True)"
   ]
  },
  {
   "cell_type": "code",
   "execution_count": null,
   "id": "87af83ad-8ebb-494c-872b-5cfa896df80b",
   "metadata": {},
   "outputs": [],
   "source": [
    "torch.cuda.empty_cache()\n",
    "res = run('lstm', False)\n",
    "with open('../results/baseline.txt', 'a') as f:\n",
    "    f.writelines(f'=== LSTM ===\\n')\n",
    "    for k, v in res[0].items():\n",
    "        f.writelines(f'{k}: {v}\\n')\n",
    "    f.writelines('\\n\\n\\n')\n",
    "    \n",
    "torch.cuda.empty_cache()\n",
    "res = run('gru', True)\n",
    "with open('../results/baseline.txt', 'a') as f:\n",
    "    f.writelines(f'=== GRU ===\\n')\n",
    "    for k, v in res[0].items():\n",
    "        f.writelines(f'{k}: {v}\\n')\n",
    "    f.writelines('\\n\\n\\n')"
   ]
  },
  {
   "cell_type": "code",
   "execution_count": null,
   "id": "aee81bab-ebf6-4fb4-9da1-db16b0d04eb5",
   "metadata": {},
   "outputs": [],
   "source": []
  },
  {
   "cell_type": "code",
   "execution_count": null,
   "id": "1a3dfc42-25b2-4ae0-b216-17c93c03bb37",
   "metadata": {},
   "outputs": [],
   "source": []
  }
 ],
 "metadata": {
  "kernelspec": {
   "display_name": "Python 3 (ipykernel)",
   "language": "python",
   "name": "python3"
  },
  "language_info": {
   "codemirror_mode": {
    "name": "ipython",
    "version": 3
   },
   "file_extension": ".py",
   "mimetype": "text/x-python",
   "name": "python",
   "nbconvert_exporter": "python",
   "pygments_lexer": "ipython3",
   "version": "3.8.10"
  }
 },
 "nbformat": 4,
 "nbformat_minor": 5
}
